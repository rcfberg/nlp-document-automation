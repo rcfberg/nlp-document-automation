{
  "nbformat": 4,
  "nbformat_minor": 0,
  "metadata": {
    "colab": {
      "provenance": []
    },
    "kernelspec": {
      "name": "python3",
      "display_name": "Python 3"
    },
    "language_info": {
      "name": "python"
    }
  },
  "cells": [
    {
      "cell_type": "code",
      "execution_count": null,
      "metadata": {
        "id": "sqmMtx6zwvs8"
      },
      "outputs": [],
      "source": [
        "# Problem Statement: A customer service department for a large e-commerce company receives a high volume of customer inquiries via email and social media. They want to automate the process of categorizing and routing these inquiries to the appropriate department for faster resolution.\n",
        "\n",
        "# Suggested Solution: Use natural language processing techniques such as sentiment analysis, named entity recognition, and text classification to automatically categorize and route customer inquiries."
      ]
    },
    {
      "cell_type": "code",
      "source": [
        "import nltk\n",
        "import pandas as pd\n",
        "from sklearn.feature_extraction.text import TfidfVectorizer\n",
        "from sklearn.metrics import classification_report\n",
        "from sklearn.model_selection import train_test_split\n",
        "from sklearn.pipeline import Pipeline\n",
        "from sklearn.naive_bayes import MultinomialNB\n",
        "\n",
        "# Download NLTK resources\n",
        "nltk.download('punkt')\n",
        "nltk.download('averaged_perceptron_tagger')\n",
        "\n",
        "# Load the customer inquiries data\n",
        "data = pd.read_csv(\"customer_inquiries.csv\")\n",
        "\n",
        "# Preprocessing the data\n",
        "def preprocess(text):\n",
        "    text = text.lower()\n",
        "    text = nltk.word_tokenize(text)\n",
        "    return \" \".join(text)\n",
        "\n",
        "data[\"text\"] = data[\"text\"].apply(preprocess)\n",
        "\n",
        "# Splitting the data into train and test sets\n",
        "X_train, X_test, y_train, y_test = train_test_split(data[\"text\"], data[\"category\"], test_size=0.2, random_state=42)\n",
        "\n",
        "# Building the pipeline\n",
        "pipeline = Pipeline([\n",
        "    ('tfidf', TfidfVectorizer()),\n",
        "    ('clf', MultinomialNB())\n",
        "])\n",
        "\n",
        "# Training the model\n",
        "pipeline.fit(X_train, y_train)\n",
        "\n",
        "# Testing the model\n",
        "y_pred = pipeline.predict(X_test)\n",
        "print(classification_report(y_test, y_pred))"
      ],
      "metadata": {
        "id": "uE4d7YAOw8y4"
      },
      "execution_count": null,
      "outputs": []
    },
    {
      "cell_type": "markdown",
      "source": [],
      "metadata": {
        "id": "Wu5BRCB3w9Du"
      }
    }
  ]
}